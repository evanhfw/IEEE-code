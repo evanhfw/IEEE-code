{
  "cells": [
    {
      "cell_type": "markdown",
      "metadata": {},
      "source": [
        "# Konfigurasi dan Instalasi\n",
        "Cell ini berisi instalasi paket yang diperlukan dan pengaturan konfigurasi untuk model TimesFM. Semua parameter hard-coded didefinisikan di sini untuk memudahkan pengelolaan."
      ]
    },
    {
      "cell_type": "code",
      "execution_count": 1,
      "metadata": {},
      "outputs": [
        {
          "name": "stdout",
          "output_type": "stream",
          "text": [
            "\u001b[33mWARNING: torch 2.6.0+cu124 does not provide the extra 'cuda'\u001b[0m\u001b[33m\n",
            "\u001b[2K   \u001b[90m━━━━━━━━━━━━━━━━━━━━━━━━━━━━━━━━━━━━━━━━\u001b[0m \u001b[32m67.7/67.7 kB\u001b[0m \u001b[31m4.1 MB/s\u001b[0m eta \u001b[36m0:00:00\u001b[0m\n",
            "\u001b[2K   \u001b[90m━━━━━━━━━━━━━━━━━━━━━━━━━━━━━━━━━━━━━━━━\u001b[0m \u001b[32m363.4/363.4 MB\u001b[0m \u001b[31m4.0 MB/s\u001b[0m eta \u001b[36m0:00:00\u001b[0m:00:01\u001b[0m00:01\u001b[0m\n",
            "\u001b[2K   \u001b[90m━━━━━━━━━━━━━━━━━━━━━━━━━━━━━━━━━━━━━━━━\u001b[0m \u001b[32m13.8/13.8 MB\u001b[0m \u001b[31m88.9 MB/s\u001b[0m eta \u001b[36m0:00:00\u001b[0m:00:01\u001b[0m00:01\u001b[0m\n",
            "\u001b[2K   \u001b[90m━━━━━━━━━━━━━━━━━━━━━━━━━━━━━━━━━━━━━━━━\u001b[0m \u001b[32m24.6/24.6 MB\u001b[0m \u001b[31m69.4 MB/s\u001b[0m eta \u001b[36m0:00:00\u001b[0m:00:01\u001b[0m00:01\u001b[0m\n",
            "\u001b[2K   \u001b[90m━━━━━━━━━━━━━━━━━━━━━━━━━━━━━━━━━━━━━━━━\u001b[0m \u001b[32m883.7/883.7 kB\u001b[0m \u001b[31m41.2 MB/s\u001b[0m eta \u001b[36m0:00:00\u001b[0m\n",
            "\u001b[2K   \u001b[90m━━━━━━━━━━━━━━━━━━━━━━━━━━━━━━━━━━━━━━━━\u001b[0m \u001b[32m664.8/664.8 MB\u001b[0m \u001b[31m1.8 MB/s\u001b[0m eta \u001b[36m0:00:00\u001b[0m:00:01\u001b[0m00:01\u001b[0m\n",
            "\u001b[2K   \u001b[90m━━━━━━━━━━━━━━━━━━━━━━━━━━━━━━━━━━━━━━━━\u001b[0m \u001b[32m211.5/211.5 MB\u001b[0m \u001b[31m6.0 MB/s\u001b[0m eta \u001b[36m0:00:00\u001b[0m:00:01\u001b[0m00:01\u001b[0m\n",
            "\u001b[2K   \u001b[90m━━━━━━━━━━━━━━━━━━━━━━━━━━━━━━━━━━━━━━━━\u001b[0m \u001b[32m56.3/56.3 MB\u001b[0m \u001b[31m28.9 MB/s\u001b[0m eta \u001b[36m0:00:00\u001b[0m:00:01\u001b[0m00:01\u001b[0m\n",
            "\u001b[2K   \u001b[90m━━━━━━━━━━━━━━━━━━━━━━━━━━━━━━━━━━━━━━━━\u001b[0m \u001b[32m127.9/127.9 MB\u001b[0m \u001b[31m12.7 MB/s\u001b[0m eta \u001b[36m0:00:00\u001b[0m00:01\u001b[0m00:01\u001b[0m\n",
            "\u001b[2K   \u001b[90m━━━━━━━━━━━━━━━━━━━━━━━━━━━━━━━━━━━━━━━━\u001b[0m \u001b[32m207.5/207.5 MB\u001b[0m \u001b[31m2.8 MB/s\u001b[0m eta \u001b[36m0:00:00\u001b[0m:00:01\u001b[0m00:01\u001b[0m\n",
            "\u001b[2K   \u001b[90m━━━━━━━━━━━━━━━━━━━━━━━━━━━━━━━━━━━━━━━━\u001b[0m \u001b[32m21.1/21.1 MB\u001b[0m \u001b[31m75.7 MB/s\u001b[0m eta \u001b[36m0:00:00\u001b[0m:00:01\u001b[0m00:01\u001b[0m\n",
            "\u001b[2K   \u001b[90m━━━━━━━━━━━━━━━━━━━━━━━━━━━━━━━━━━━━━━━━\u001b[0m \u001b[32m42.2/42.2 kB\u001b[0m \u001b[31m2.5 MB/s\u001b[0m eta \u001b[36m0:00:00\u001b[0m\n",
            "\u001b[2K   \u001b[90m━━━━━━━━━━━━━━━━━━━━━━━━━━━━━━━━━━━━━━━━\u001b[0m \u001b[32m55.0/55.0 kB\u001b[0m \u001b[31m3.3 MB/s\u001b[0m eta \u001b[36m0:00:00\u001b[0m\n",
            "\u001b[?25h See https://github.com/google-research/timesfm/blob/master/README.md for updated APIs.\n",
            "Loaded PyTorch TimesFM, likely because python version is 3.11.13 (main, Jun  4 2025, 08:57:29) [GCC 11.4.0].\n"
          ]
        }
      ],
      "source": [
        "# Instalasi paket yang diperlukan\n",
        "!pip install timesfm[torch] pandas numpy seaborn -q\n",
        "\n",
        "# Import pustaka\n",
        "import pandas as pd\n",
        "import numpy as np\n",
        "import seaborn as sns\n",
        "import timesfm\n",
        "from timesfm import TimesFm\n",
        "\n",
        "# Konfigurasi model TimesFM\n",
        "MODEL_CONFIG = {\n",
        "    'backend': 'gpu',\n",
        "    'per_core_batch_size': 32,\n",
        "    'horizon_len': 24,\n",
        "    'num_layers': 50,\n",
        "    'use_positional_embedding': False,\n",
        "    'context_len': 2048,\n",
        "    'huggingface_repo_id': 'google/timesfm-2.0-500m-pytorch'\n",
        "}\n",
        "\n",
        "# Konfigurasi data\n",
        "DATA_CONFIG = {\n",
        "    'url': 'https://github.com/evanhfw/IEEE-code/raw/refs/heads/main/data/Finlandia.csv',\n",
        "    'columns': ['Consumption', 'Date'],\n",
        "    'new_columns': ['y', 'ds'],\n",
        "    'freq': 'h',\n",
        "    'num_folds': 20,\n",
        "    'train_end_idx': 17015,\n",
        "    'unique_id': 1\n",
        "}\n",
        "\n",
        "# Konfigurasi output\n",
        "OUTPUT_CONFIG = {\n",
        "    'test_output_file': 'Data Test Ori - Fold.csv',\n",
        "    'result_output_file': 'Result TIMEFM - Finlandia.csv'\n",
        "}"
      ]
    },
    {
      "cell_type": "markdown",
      "id": "923ecca7",
      "metadata": {},
      "source": [
        "# Memuat dan Mempersiapkan Data\n",
        "Bagian ini bertujuan untuk memuat data dari URL yang diberikan, mengubah nama kolom, dan menambahkan kolom `unique_id` untuk keperluan model TimesFM."
      ]
    },
    {
      "cell_type": "code",
      "execution_count": 2,
      "metadata": {},
      "outputs": [
        {
          "name": "stdout",
          "output_type": "stream",
          "text": [
            "Jumlah baris data: 17520\n",
            "Kolom dataset: ['y', 'ds', 'unique_id']\n",
            "Rentang tanggal: 2022-01-01 01:00:00 hingga 2024-01-01 00:00:00\n"
          ]
        }
      ],
      "source": [
        "# Memuat data dari URL\n",
        "finland = pd.read_csv(DATA_CONFIG['url'])\n",
        "finland = finland[DATA_CONFIG['columns']]\n",
        "finland.columns = DATA_CONFIG['new_columns']\n",
        "\n",
        "# Mengubah kolom 'ds' menjadi format datetime\n",
        "finland['ds'] = pd.to_datetime(finland['ds'])\n",
        "\n",
        "# Menambahkan kolom unique_id\n",
        "finland['unique_id'] = DATA_CONFIG['unique_id']\n",
        "\n",
        "# Menampilkan informasi dasar dataset\n",
        "print(f\"Jumlah baris data: {len(finland)}\")\n",
        "print(f\"Kolom dataset: {finland.columns.tolist()}\")\n",
        "print(f\"Rentang tanggal: {finland['ds'].min()} hingga {finland['ds'].max()}\")"
      ]
    },
    {
      "cell_type": "markdown",
      "metadata": {},
      "source": [
        "# Inisialisasi Model TimesFM\n",
        "Cell ini menginisialisasi model TimesFM dengan parameter yang telah didefinisikan di konfigurasi."
      ]
    },
    {
      "cell_type": "code",
      "execution_count": 3,
      "metadata": {},
      "outputs": [
        {
          "data": {
            "application/vnd.jupyter.widget-view+json": {
              "model_id": "74267434af6a4a679a1a4c7707fcc968",
              "version_major": 2,
              "version_minor": 0
            },
            "text/plain": [
              "Fetching 5 files:   0%|          | 0/5 [00:00<?, ?it/s]"
            ]
          },
          "metadata": {},
          "output_type": "display_data"
        },
        {
          "data": {
            "application/vnd.jupyter.widget-view+json": {
              "model_id": "2890ec3253d9430b9bc6c9cc5c5f2a53",
              "version_major": 2,
              "version_minor": 0
            },
            "text/plain": [
              ".gitattributes: 0.00B [00:00, ?B/s]"
            ]
          },
          "metadata": {},
          "output_type": "display_data"
        },
        {
          "data": {
            "application/vnd.jupyter.widget-view+json": {
              "model_id": "e235ee0207194e9d9f49f8b4362bfcfe",
              "version_major": 2,
              "version_minor": 0
            },
            "text/plain": [
              "torch_model.ckpt:   0%|          | 0.00/2.00G [00:00<?, ?B/s]"
            ]
          },
          "metadata": {},
          "output_type": "display_data"
        },
        {
          "data": {
            "application/vnd.jupyter.widget-view+json": {
              "model_id": "2777a3da7a95488da9ffb8065a7d46c2",
              "version_major": 2,
              "version_minor": 0
            },
            "text/plain": [
              "model.safetensors:   0%|          | 0.00/2.00G [00:00<?, ?B/s]"
            ]
          },
          "metadata": {},
          "output_type": "display_data"
        },
        {
          "data": {
            "application/vnd.jupyter.widget-view+json": {
              "model_id": "b28c68cd6d2d41a29075b472eee0a3ab",
              "version_major": 2,
              "version_minor": 0
            },
            "text/plain": [
              "config.json:   0%|          | 0.00/692 [00:00<?, ?B/s]"
            ]
          },
          "metadata": {},
          "output_type": "display_data"
        },
        {
          "data": {
            "application/vnd.jupyter.widget-view+json": {
              "model_id": "9b8c5cbf9f2a4233bcdb38f1b4e7bded",
              "version_major": 2,
              "version_minor": 0
            },
            "text/plain": [
              "README.md: 0.00B [00:00, ?B/s]"
            ]
          },
          "metadata": {},
          "output_type": "display_data"
        },
        {
          "name": "stdout",
          "output_type": "stream",
          "text": [
            "Model TimesFM berhasil diinisialisasi.\n"
          ]
        }
      ],
      "source": [
        "# Inisialisasi model TimesFM\n",
        "tfm = TimesFm(\n",
        "    hparams=timesfm.TimesFmHparams(\n",
        "        backend=MODEL_CONFIG['backend'],\n",
        "        per_core_batch_size=MODEL_CONFIG['per_core_batch_size'],\n",
        "        horizon_len=MODEL_CONFIG['horizon_len'],\n",
        "        num_layers=MODEL_CONFIG['num_layers'],\n",
        "        use_positional_embedding=MODEL_CONFIG['use_positional_embedding'],\n",
        "        context_len=MODEL_CONFIG['context_len'],\n",
        "    ),\n",
        "    checkpoint=timesfm.TimesFmCheckpoint(\n",
        "        huggingface_repo_id=MODEL_CONFIG['huggingface_repo_id']\n",
        "    )\n",
        ")\n",
        "\n",
        "print(\"Model TimesFM berhasil diinisialisasi.\")"
      ]
    },
    {
      "cell_type": "markdown",
      "metadata": {},
      "source": [
        "# Pembuatan Data Uji\n",
        "Bagian ini membuat data uji dengan membagi data menjadi beberapa fold berdasarkan konfigurasi. Data uji disimpan dalam format DataFrame dan diekspor ke file CSV."
      ]
    },
    {
      "cell_type": "code",
      "execution_count": 6,
      "metadata": {},
      "outputs": [
        {
          "name": "stdout",
          "output_type": "stream",
          "text": [
            "Data uji fold 0 dibuat dengan 24 baris.\n",
            "Data uji fold 1 dibuat dengan 24 baris.\n",
            "Data uji fold 2 dibuat dengan 24 baris.\n",
            "Data uji fold 3 dibuat dengan 24 baris.\n",
            "Data uji fold 4 dibuat dengan 24 baris.\n",
            "Data uji fold 5 dibuat dengan 24 baris.\n",
            "Data uji fold 6 dibuat dengan 24 baris.\n",
            "Data uji fold 7 dibuat dengan 24 baris.\n",
            "Data uji fold 8 dibuat dengan 24 baris.\n",
            "Data uji fold 9 dibuat dengan 24 baris.\n",
            "Data uji fold 10 dibuat dengan 24 baris.\n",
            "Data uji fold 11 dibuat dengan 24 baris.\n",
            "Data uji fold 12 dibuat dengan 24 baris.\n",
            "Data uji fold 13 dibuat dengan 24 baris.\n",
            "Data uji fold 14 dibuat dengan 24 baris.\n",
            "Data uji fold 15 dibuat dengan 24 baris.\n",
            "Data uji fold 16 dibuat dengan 24 baris.\n",
            "Data uji fold 17 dibuat dengan 24 baris.\n",
            "Data uji fold 18 dibuat dengan 24 baris.\n",
            "Data uji fold 19 dibuat dengan 24 baris.\n",
            "Data uji disimpan ke Data Test Ori - Fold.csv\n"
          ]
        }
      ],
      "source": [
        "# Inisialisasi list untuk menyimpan data uji\n",
        "tests = []\n",
        "tests_df = pd.DataFrame()\n",
        "\n",
        "# Membuat data uji untuk setiap fold\n",
        "for i in range(DATA_CONFIG['num_folds']):\n",
        "    start_idx = DATA_CONFIG['train_end_idx'] + i * MODEL_CONFIG['horizon_len']\n",
        "    end_idx = start_idx + MODEL_CONFIG['horizon_len']\n",
        "    test = finland.iloc[start_idx:end_idx]\n",
        "    tests.append(test)\n",
        "    tests_df[f'fold_{i}'] = test['y'].values\n",
        "    print(f\"Data uji fold {i} dibuat dengan {len(test)} baris.\")\n",
        "\n",
        "# Menyimpan data uji ke file CSV\n",
        "tests_df.to_csv(OUTPUT_CONFIG['test_output_file'], index=False)\n",
        "print(f\"Data uji disimpan ke {OUTPUT_CONFIG['test_output_file']}\")"
      ]
    },
    {
      "cell_type": "markdown",
      "metadata": {},
      "source": [
        "# Proses Forecasting\n",
        "Bagian ini melakukan forecasting menggunakan model TimesFM untuk setiap fold dan menyimpan hasilnya ke dalam DataFrame."
      ]
    },
    {
      "cell_type": "code",
      "execution_count": 7,
      "metadata": {},
      "outputs": [
        {
          "name": "stdout",
          "output_type": "stream",
          "text": [
            "Memproses forecasting untuk fold 0 dengan 17015 baris input.\n",
            "Processing dataframe with multiple processes.\n",
            "Finished preprocessing dataframe.\n",
            "Finished forecasting.\n",
            "Forecasting fold 0 selesai.\n",
            "Memproses forecasting untuk fold 1 dengan 17015 baris input.\n",
            "Processing dataframe with multiple processes.\n",
            "Finished preprocessing dataframe.\n",
            "Finished forecasting.\n",
            "Forecasting fold 1 selesai.\n",
            "Memproses forecasting untuk fold 2 dengan 17015 baris input.\n",
            "Processing dataframe with multiple processes.\n",
            "Finished preprocessing dataframe.\n",
            "Finished forecasting.\n",
            "Forecasting fold 2 selesai.\n",
            "Memproses forecasting untuk fold 3 dengan 17015 baris input.\n",
            "Processing dataframe with multiple processes.\n",
            "Finished preprocessing dataframe.\n",
            "Finished forecasting.\n",
            "Forecasting fold 3 selesai.\n",
            "Memproses forecasting untuk fold 4 dengan 17015 baris input.\n",
            "Processing dataframe with multiple processes.\n",
            "Finished preprocessing dataframe.\n",
            "Finished forecasting.\n",
            "Forecasting fold 4 selesai.\n",
            "Memproses forecasting untuk fold 5 dengan 17015 baris input.\n",
            "Processing dataframe with multiple processes.\n",
            "Finished preprocessing dataframe.\n",
            "Finished forecasting.\n",
            "Forecasting fold 5 selesai.\n",
            "Memproses forecasting untuk fold 6 dengan 17015 baris input.\n",
            "Processing dataframe with multiple processes.\n",
            "Finished preprocessing dataframe.\n",
            "Finished forecasting.\n",
            "Forecasting fold 6 selesai.\n",
            "Memproses forecasting untuk fold 7 dengan 17015 baris input.\n",
            "Processing dataframe with multiple processes.\n",
            "Finished preprocessing dataframe.\n",
            "Finished forecasting.\n",
            "Forecasting fold 7 selesai.\n",
            "Memproses forecasting untuk fold 8 dengan 17015 baris input.\n",
            "Processing dataframe with multiple processes.\n",
            "Finished preprocessing dataframe.\n",
            "Finished forecasting.\n",
            "Forecasting fold 8 selesai.\n",
            "Memproses forecasting untuk fold 9 dengan 17015 baris input.\n",
            "Processing dataframe with multiple processes.\n",
            "Finished preprocessing dataframe.\n",
            "Finished forecasting.\n",
            "Forecasting fold 9 selesai.\n",
            "Memproses forecasting untuk fold 10 dengan 17015 baris input.\n",
            "Processing dataframe with multiple processes.\n",
            "Finished preprocessing dataframe.\n",
            "Finished forecasting.\n",
            "Forecasting fold 10 selesai.\n",
            "Memproses forecasting untuk fold 11 dengan 17015 baris input.\n",
            "Processing dataframe with multiple processes.\n",
            "Finished preprocessing dataframe.\n",
            "Finished forecasting.\n",
            "Forecasting fold 11 selesai.\n",
            "Memproses forecasting untuk fold 12 dengan 17015 baris input.\n",
            "Processing dataframe with multiple processes.\n",
            "Finished preprocessing dataframe.\n",
            "Finished forecasting.\n",
            "Forecasting fold 12 selesai.\n",
            "Memproses forecasting untuk fold 13 dengan 17015 baris input.\n",
            "Processing dataframe with multiple processes.\n",
            "Finished preprocessing dataframe.\n",
            "Finished forecasting.\n",
            "Forecasting fold 13 selesai.\n",
            "Memproses forecasting untuk fold 14 dengan 17015 baris input.\n",
            "Processing dataframe with multiple processes.\n",
            "Finished preprocessing dataframe.\n",
            "Finished forecasting.\n",
            "Forecasting fold 14 selesai.\n",
            "Memproses forecasting untuk fold 15 dengan 17015 baris input.\n",
            "Processing dataframe with multiple processes.\n",
            "Finished preprocessing dataframe.\n",
            "Finished forecasting.\n",
            "Forecasting fold 15 selesai.\n",
            "Memproses forecasting untuk fold 16 dengan 17015 baris input.\n",
            "Processing dataframe with multiple processes.\n",
            "Finished preprocessing dataframe.\n",
            "Finished forecasting.\n",
            "Forecasting fold 16 selesai.\n",
            "Memproses forecasting untuk fold 17 dengan 17015 baris input.\n",
            "Processing dataframe with multiple processes.\n",
            "Finished preprocessing dataframe.\n",
            "Finished forecasting.\n",
            "Forecasting fold 17 selesai.\n",
            "Memproses forecasting untuk fold 18 dengan 17015 baris input.\n",
            "Processing dataframe with multiple processes.\n",
            "Finished preprocessing dataframe.\n",
            "Finished forecasting.\n",
            "Forecasting fold 18 selesai.\n",
            "Memproses forecasting untuk fold 19 dengan 17015 baris input.\n",
            "Processing dataframe with multiple processes.\n",
            "Finished preprocessing dataframe.\n",
            "Finished forecasting.\n",
            "Forecasting fold 19 selesai.\n",
            "Hasil forecasting disimpan ke Result TIMEFM - Finlandia.csv\n"
          ]
        }
      ],
      "source": [
        "# Inisialisasi list untuk menyimpan hasil forecasting\n",
        "results = []\n",
        "results_df = pd.DataFrame()\n",
        "\n",
        "# Melakukan forecasting untuk setiap fold\n",
        "for i in range(DATA_CONFIG['num_folds']):\n",
        "    start_idx = i * MODEL_CONFIG['horizon_len']\n",
        "    end_idx = DATA_CONFIG['train_end_idx'] + i * MODEL_CONFIG['horizon_len']\n",
        "    input_data = finland.iloc[start_idx:end_idx]\n",
        "    \n",
        "    print(f\"Memproses forecasting untuk fold {i} dengan {len(input_data)} baris input.\")\n",
        "    \n",
        "    # Melakukan forecasting\n",
        "    forecast_df = tfm.forecast_on_df(\n",
        "        inputs=input_data,\n",
        "        freq=DATA_CONFIG['freq'],\n",
        "        value_name='y',\n",
        "        num_jobs=-1\n",
        "    )\n",
        "    results.append(forecast_df)\n",
        "    results_df[f'fold_{i}'] = forecast_df['timesfm']\n",
        "    print(f\"Forecasting fold {i} selesai.\")\n",
        "\n",
        "# Menyimpan hasil forecasting ke file CSV\n",
        "results_df.to_csv(OUTPUT_CONFIG['result_output_file'], index=False)\n",
        "print(f\"Hasil forecasting disimpan ke {OUTPUT_CONFIG['result_output_file']}\")"
      ]
    }
  ],
  "metadata": {
    "kernelspec": {
      "display_name": "Python 3 (ipykernel)",
      "language": "python",
      "name": "python3"
    },
    "language_info": {
      "codemirror_mode": {
        "name": "ipython",
        "version": 3
      },
      "file_extension": ".py",
      "mimetype": "text/x-python",
      "name": "python",
      "nbconvert_exporter": "python",
      "pygments_lexer": "ipython3",
      "version": "3.11.13"
    }
  },
  "nbformat": 4,
  "nbformat_minor": 5
}
